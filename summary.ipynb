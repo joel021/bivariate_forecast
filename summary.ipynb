{
 "cells": [
  {
   "cell_type": "markdown",
   "metadata": {},
   "source": [
    "## Generate Query to Summary"
   ]
  },
  {
   "cell_type": "markdown",
   "metadata": {},
   "source": [
    "### Generate Summary Query"
   ]
  },
  {
   "cell_type": "code",
   "execution_count": 1,
   "metadata": {},
   "outputs": [],
   "source": [
    "import pandas as pd\n",
    "import numpy as np"
   ]
  },
  {
   "cell_type": "code",
   "execution_count": 2,
   "metadata": {},
   "outputs": [],
   "source": [
    "##Get all data from aws and make clusters to find similar curves\n",
    "model_range = [\"15\",\"16\",\"17\",\"18\",\"19\",\"20\",\"21\",\"22\"]\n",
    "\n",
    "sql_claims = \"\\nunion\".join(\"\"\"\n",
    "select veh.veh_line_cd, 20\"\"\"+mdl_yr+\"\"\" as mdl_yr, clm.prt_num_causl_base_cd, sum(clm.mtrl_cost)\n",
    "\n",
    "    from dsc60117_aws_tz_db.clm_\"\"\"+str(mdl_yr)+\"\"\" clm, dsc60117_aws_tz_db.veh_\"\"\"+mdl_yr+\"\"\" veh\n",
    "        where\n",
    "            clm.vin_cd = veh.vin_cd\n",
    "            and veh.sls_region_cd in (\"SA\", \"NA\")\n",
    "            and clm.prt_num_causl_base_cd in (\"7000\",\"7902\",\"6006\",\"3504\",\"9k546\",\"6k682\",\"6011\",\"9U433\",\"7A095\",\"6K683\",\"10655\",\"19E616\",\"5H270\",\"18124\")\n",
    "    group by veh.veh_line_cd, clm.prt_num_causl_base_cd, 20\"\"\"+mdl_yr+\"\"\"\n",
    "\"\"\" for mdl_yr in model_range)\n",
    "\n",
    "with open(\"summary_clm.sql\", \"w\") as f:\n",
    "    sql_claims = \"\"\"\n",
    "set hive.execution.engine=tez;\n",
    "set hive.optimize.index.filter=false;\n",
    "set tez.task.resource.memory.mb=32000;\n",
    "set hive.tez.container.size=32000;\n",
    "set hive.tez.java.opts=-Xmx90g;\n",
    "set tez.am.resource.memory.mb=32000;\n",
    "set tez.task.resource.memory.mb=32000;\n",
    "set tez.am.java.opts=-Xms60g;\n",
    "\"\"\"+sql_claims\n",
    "    f.write(sql_claims)"
   ]
  },
  {
   "cell_type": "markdown",
   "metadata": {},
   "source": [
    "### Explore Summary"
   ]
  },
  {
   "cell_type": "code",
   "execution_count": 3,
   "metadata": {},
   "outputs": [],
   "source": [
    "df_group = pd.read_csv(\"./data/summary_clm.tsv\", sep=\"\\t\")\n",
    "df_group_ = df_group.groupby(by=['veh_line_cd','prt_num_causl_base_cd']).agg('sum')\n",
    "higher = df_group_.sort_values(by=['_c3'], ascending=False).reset_index()\n",
    "#higher = higher[higher['_c3'] >= higher['_c3'].mean()]\n",
    "higher = higher[higher['_c3'] > 0]"
   ]
  },
  {
   "cell_type": "code",
   "execution_count": 5,
   "metadata": {},
   "outputs": [],
   "source": [
    "prt_num_list = list(higher.prt_num_causl_base_cd.unique())\n",
    "\n",
    "veh_line_str = \"(\" + \",\".join( '\"'+v+'\"' for v in higher.veh_line_cd.unique() ) + \")\"\n",
    "prt_num_cauls_base_str = \"(\" + \",\".join( '\"'+v+'\"' for v in prt_num_list ) + \")\"\n",
    "#Do combination query\n",
    "limit_query = \"\"\n",
    "\n",
    "for i in range(len(higher.index)):\n",
    "    row = higher.iloc[i]\n",
    "\n",
    "    if row[\"prt_num_causl_base_cd\"] == \"*\" or not row[\"prt_num_causl_base_cd\"] in prt_num_list:\n",
    "        continue\n",
    "    \n",
    "    if i == 0:\n",
    "        limit_query = \"(veh_line_cd = \\\"\"+row[\"veh_line_cd\"]+\"\\\" and prt_num_causl_base_cd = \\\"\"+row[\"prt_num_causl_base_cd\"]+\"\\\" )\\n\"\n",
    "    else:\n",
    "        limit_query += \"or (veh_line_cd = \\\"\"+row[\"veh_line_cd\"]+\"\\\" and prt_num_causl_base_cd = \\\"\"+row[\"prt_num_causl_base_cd\"]+\"\\\" )\\n\""
   ]
  },
  {
   "cell_type": "markdown",
   "metadata": {},
   "source": [
    "### Claims:"
   ]
  },
  {
   "cell_type": "code",
   "execution_count": 9,
   "metadata": {},
   "outputs": [],
   "source": [
    "##Get all data from aws and make clusters to find similar curves\n",
    "model_range = [\"15\",\"16\", \"17\", \"18\",\"19\",\"20\",\"21\",\"22\"]\n",
    "\n",
    "sql_claims = \"\\nunion\".join(\"\"\"\n",
    "    select clm.vin_cd, 20\"\"\"+(mdl_yr)+\"\"\" as mdl_yr, veh.veh_line_cd, clm.prt_num_causl_base_cd, clm.tis_wsd, clm.milge\n",
    "\n",
    "        from dsc60117_aws_tz_db.clm_\"\"\"+(mdl_yr)+\"\"\" clm, dsc60117_aws_tz_db.prt_\"\"\"+(mdl_yr)+\"\"\" prt, dsc60117_aws_tz_db.veh_\"\"\"+(mdl_yr)+\"\"\" veh\n",
    "            where\n",
    "                prt.clm_key = clm.clm_key\n",
    "                and clm.vin_cd = veh.vin_cd\n",
    "                and veh.sls_region_cd in (\"SA\",\"NA\")\n",
    "                and veh.veh_line_cd in \"\"\"+veh_line_str+\"\"\"\n",
    "                and clm.prt_num_causl_base_cd in \"\"\"+prt_num_cauls_base_str+\"\"\"\n",
    "\"\"\" for mdl_yr in model_range) #model year: 2017-2019\n",
    "\n",
    "sql_claims = \"\"\"with db_1 as (\n",
    "    \"\"\"+sql_claims+\"\"\"\n",
    ")\n",
    "select * from db_1\n",
    "    where\n",
    "    \"\"\"+limit_query+\"\"\"\"\"\"\n",
    "\n",
    "with open(\"sel_clm_SA_NA.sql\", \"w\") as f:\n",
    "    sql_claims = \"\"\"\n",
    "set hive.execution.engine=tez;\n",
    "set hive.optimize.index.filter=false;\n",
    "set tez.task.resource.memory.mb=32000;\n",
    "set hive.tez.container.size=32000;\n",
    "set hive.tez.java.opts=-Xmx90g;\n",
    "set tez.am.resource.memory.mb=32000;\n",
    "set tez.task.resource.memory.mb=32000;\n",
    "set tez.am.java.opts=-Xms60g;\n",
    "\"\"\"+sql_claims\n",
    "    f.write(sql_claims)"
   ]
  },
  {
   "cell_type": "markdown",
   "metadata": {},
   "source": [
    "### Production"
   ]
  },
  {
   "cell_type": "code",
   "execution_count": 6,
   "metadata": {},
   "outputs": [],
   "source": [
    "sql_claims = \"\\nunion\".join(\"\"\"\n",
    "select veh.vin_cd, 20\"\"\"+(mdl_yr)+\"\"\" as mdl_yr, veh.veh_line_cd, veh.eng_cd\n",
    "\n",
    "    from dsc60117_aws_tz_db.veh_\"\"\"+(mdl_yr)+\"\"\" veh\n",
    "        where\n",
    "        veh.sls_region_cd in (\"SA\",\"NA\")\n",
    "        and veh.veh_line_cd in \"\"\"+veh_line_str+\"\"\"\n",
    "\"\"\" for mdl_yr in model_range) #model year: 2017-2019\n",
    "\n",
    "with open(\"sel_prod_SA_NA.sql\", \"w\") as f:\n",
    "    sql_claims = \"\"\"\n",
    "set hive.execution.engine=tez;\n",
    "set hive.optimize.index.filter=false;\n",
    "set tez.task.resource.memory.mb=32000;\n",
    "set hive.tez.container.size=32000;\n",
    "set hive.tez.java.opts=-Xmx90g;\n",
    "set tez.am.resource.memory.mb=32000;\n",
    "set tez.task.resource.memory.mb=32000;\n",
    "set tez.am.java.opts=-Xms60g;\n",
    "\"\"\"+sql_claims\n",
    "    f.write(sql_claims)"
   ]
  },
  {
   "cell_type": "code",
   "execution_count": null,
   "metadata": {},
   "outputs": [],
   "source": []
  }
 ],
 "metadata": {
  "kernelspec": {
   "display_name": "Python 3.7.0 64-bit (system)",
   "language": "python",
   "name": "python3"
  },
  "language_info": {
   "codemirror_mode": {
    "name": "ipython",
    "version": 3
   },
   "file_extension": ".py",
   "mimetype": "text/x-python",
   "name": "python",
   "nbconvert_exporter": "python",
   "pygments_lexer": "ipython3",
   "version": "3.7.0"
  },
  "orig_nbformat": 4,
  "vscode": {
   "interpreter": {
    "hash": "1f2ac25b4a6d870602abfa5d74e7d6f1ae274ba9e86645830384575c0e5c89f3"
   }
  }
 },
 "nbformat": 4,
 "nbformat_minor": 2
}
